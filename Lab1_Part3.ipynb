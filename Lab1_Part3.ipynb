{
  "cells": [
    {
      "cell_type": "markdown",
      "metadata": {
        "id": "view-in-github",
        "colab_type": "text"
      },
      "source": [
        "<a href=\"https://colab.research.google.com/github/MrGyani/Scientific-Computation/blob/main/Lab1_Part3.ipynb\" target=\"_parent\"><img src=\"https://colab.research.google.com/assets/colab-badge.svg\" alt=\"Open In Colab\"/></a>"
      ]
    },
    {
      "cell_type": "markdown",
      "metadata": {
        "id": "SLbbPYamqBo-"
      },
      "source": [
        "# <center>Computer lab 1: Introduction to numpy and matplotlib</center>\n",
        "## <center>Part 3: Vector and matrix operations</center>"
      ]
    },
    {
      "cell_type": "markdown",
      "metadata": {
        "id": "AsZNGzkjqBpB"
      },
      "source": [
        "<p>In this part of the lab you will work with matrix/vector-operations, such matrix multiplication, dot products, outer products and linear equation systems in <b>numpy</b>.</p>\n",
        "<hr>\n",
        "<p>First, as before begin with importing <b>numpy</b></p>"
      ]
    },
    {
      "cell_type": "code",
      "execution_count": null,
      "metadata": {
        "id": "geHBk_1xqBpB"
      },
      "outputs": [],
      "source": [
        "import numpy as np"
      ]
    },
    {
      "cell_type": "markdown",
      "metadata": {
        "id": "oZ5mYPbMqBpD"
      },
      "source": [
        "<h3>Matrix operations</h3>\n",
        "<p>Create the matrices/vectors:\n",
        "$$ \\begin{array}{lllll}\n",
        "A = \\left( \\begin{array}{ccc}\n",
        "2 & 4 & -6 \\\\\n",
        "1 & 5 & 3 \\\\\n",
        "1 & 3 & 2\n",
        "\\end{array} \\right), &\n",
        "B = \\left( \\begin{array}{ccc}\n",
        "1 & -1 & 1 \\\\\n",
        "4 & 0 & -2 \\\\\n",
        "0 & 1 & 1\n",
        "\\end{array} \\right), &\n",
        "C = \\left( \\begin{array}{cc}\n",
        "1 & 2 \\\\\n",
        "3 & 4 \\\\\n",
        "5 & 6\n",
        "\\end{array}\\right), &\n",
        "x = \\left( \\begin{array}{ccc} 1 & 2 & 3 \\end{array} \\right), &\n",
        "y = \\left( \\begin{array}{ccc} 2 & 1 & 0 \\end{array} \\right).\n",
        "\\end{array}\n",
        "$$\n",
        "Also, display the matrices and the vectors on the screen so you can see that they are correctly defined."
      ]
    },
    {
      "cell_type": "code",
      "execution_count": null,
      "metadata": {
        "id": "6kQ1ocgpqBpD"
      },
      "outputs": [],
      "source": [
        "# Enter your code here\n",
        "A=np.array([[2,4,-6],[1,5,3],[1,3,2]])\n",
        "B=np.array([[1,-1,1],[4,0,-2],[0,1,1]])\n",
        "C=np.array([[1,2],[3,4],[5,6]])\n",
        "x=np.array([1,2,3])\n",
        "y=np.array([2,1,0])"
      ]
    },
    {
      "cell_type": "markdown",
      "metadata": {
        "id": "e0Il6QL6qBpD"
      },
      "source": [
        "<h4>Matrix and vector addition/subtraction</h4>\n",
        "<p>Matrix addition and subtraction is straightforward, and follow standard linear algebra rules. Both addition and subtraction are are defined by elementwise addition/subtraction, i.e. $A+B$ takes every element of $A$ and add the corresponding element of $B$.</p>\n",
        "<p>Try it out in Python, calculate <code>x+y</code>, <code>A+B</code>, <code>A-B</code> and <code>A+C</code> (note, it's correct that the last operation generates an error):</p>"
      ]
    },
    {
      "cell_type": "code",
      "execution_count": null,
      "metadata": {
        "id": "vQz9Vus4qBpD",
        "colab": {
          "base_uri": "https://localhost:8080/",
          "height": 297
        },
        "outputId": "fca44196-5f67-4fdf-bdf4-d3823bd919bb"
      },
      "outputs": [
        {
          "output_type": "stream",
          "name": "stdout",
          "text": [
            "x+y=  [3 3 3]\n",
            "A+B=  [[ 3  3 -5]\n",
            " [ 5  5  1]\n",
            " [ 1  4  3]]\n",
            "A-B=  [[ 1  5 -7]\n",
            " [-3  5  5]\n",
            " [ 1  2  1]]\n"
          ]
        },
        {
          "output_type": "error",
          "ename": "ValueError",
          "evalue": "operands could not be broadcast together with shapes (3,3) (3,2) ",
          "traceback": [
            "\u001b[0;31m---------------------------------------------------------------------------\u001b[0m",
            "\u001b[0;31mValueError\u001b[0m                                Traceback (most recent call last)",
            "\u001b[0;32m<ipython-input-8-3d09c3d26c60>\u001b[0m in \u001b[0;36m<cell line: 5>\u001b[0;34m()\u001b[0m\n\u001b[1;32m      3\u001b[0m \u001b[0mprint\u001b[0m\u001b[0;34m(\u001b[0m\u001b[0;34m'A+B= '\u001b[0m\u001b[0;34m,\u001b[0m \u001b[0mA\u001b[0m\u001b[0;34m+\u001b[0m\u001b[0mB\u001b[0m\u001b[0;34m)\u001b[0m\u001b[0;34m\u001b[0m\u001b[0;34m\u001b[0m\u001b[0m\n\u001b[1;32m      4\u001b[0m \u001b[0mprint\u001b[0m\u001b[0;34m(\u001b[0m\u001b[0;34m'A-B= '\u001b[0m\u001b[0;34m,\u001b[0m \u001b[0mA\u001b[0m\u001b[0;34m-\u001b[0m\u001b[0mB\u001b[0m\u001b[0;34m)\u001b[0m\u001b[0;34m\u001b[0m\u001b[0;34m\u001b[0m\u001b[0m\n\u001b[0;32m----> 5\u001b[0;31m \u001b[0mprint\u001b[0m\u001b[0;34m(\u001b[0m\u001b[0;34m'A+C= '\u001b[0m\u001b[0;34m,\u001b[0m \u001b[0mA\u001b[0m\u001b[0;34m+\u001b[0m\u001b[0mC\u001b[0m\u001b[0;34m)\u001b[0m\u001b[0;34m\u001b[0m\u001b[0;34m\u001b[0m\u001b[0m\n\u001b[0m",
            "\u001b[0;31mValueError\u001b[0m: operands could not be broadcast together with shapes (3,3) (3,2) "
          ]
        }
      ],
      "source": [
        "# Enter your code here\n",
        "print('x+y= ', x+y)\n",
        "print('A+B= ', A+B)\n",
        "print('A-B= ', A-B)\n",
        "print('A+C= ', A+C)"
      ]
    },
    {
      "cell_type": "markdown",
      "metadata": {
        "id": "HmK5eBkWqBpE"
      },
      "source": [
        "What was the result of the last operation (<code>A+C</code>), and why?"
      ]
    },
    {
      "cell_type": "markdown",
      "metadata": {
        "id": "bC-t-UbiqBpE"
      },
      "source": [
        "<h4>Matrix and vector multiplication</h4>\n",
        "<p>There are two different kinds of matrix/vector multiplication, the standard matrix multiplication (from linear algebra) and elementwise multiplication.<br><br>\n",
        "Standard matrix multiplication is based on dot products, so for example the result of $A \\cdot B$ would be\n",
        "$$\n",
        "A \\cdot B = \\left( \\begin{array}{ccc}\n",
        "18 & -8 & -12 \\\\\n",
        "21 & 2 & -6 \\\\\n",
        "13 & 1 & -3\n",
        "\\end{array} \\right)\n",
        "$$\n",
        "The first element in the resulting matrix, element (1,1), is the dot product between $A$'s first row and $B$'s first column, element (1,2) is the dot product of $A$'s first row and $B$'s 2nd column, and so forth.<br><br>\n",
        "The dot product between $x$ and $y$, i.e. $x^Ty$ in linear algebra notation, will be equal to 4 (check it out!).\n",
        "</p>\n",
        "<p>In numpy the functions <code>np.dot(x,y)</code> will calculate the dot product between 1-D vectors, and <code>np.matmul(A,B)</code> will calculate standard matrix multiplication. Try it out for $x$, $y$, $A$ and $B$!  "
      ]
    },
    {
      "cell_type": "code",
      "execution_count": 10,
      "metadata": {
        "id": "NWHrloqvqBpE",
        "colab": {
          "base_uri": "https://localhost:8080/"
        },
        "outputId": "188e2e63-ce22-47f5-a183-5f903b05a6de"
      },
      "outputs": [
        {
          "output_type": "execute_result",
          "data": {
            "text/plain": [
              "array([[ 18,  -8, -12],\n",
              "       [ 21,   2,  -6],\n",
              "       [ 13,   1,  -3]])"
            ]
          },
          "metadata": {},
          "execution_count": 10
        }
      ],
      "source": [
        "# Enter your code here\n",
        "np.dot(x,y)\n",
        "np.matmul(A,B)"
      ]
    },
    {
      "cell_type": "markdown",
      "metadata": {
        "id": "vm2u_oSAqBpE"
      },
      "source": [
        "<p>For 2D vectors (for example a column vector in numpy) <code>np.dot</code>is equivalent to <code>np.matmul</code> (as opposed to <code>dot</code>, <code>matmul</code> does not allow multiplication with scalars)."
      ]
    },
    {
      "cell_type": "markdown",
      "metadata": {
        "id": "rR8lYAG4qBpF"
      },
      "source": [
        "<p>When you work with standard multiplication, the dimensions must fit. Use <code>np.matmul</code> and try $B \\cdot C$ and $C \\cdot B$. Try to figure out why one works and the other doesn't. </p>"
      ]
    },
    {
      "cell_type": "code",
      "execution_count": 11,
      "metadata": {
        "id": "WO_36OnLqBpF",
        "colab": {
          "base_uri": "https://localhost:8080/",
          "height": 228
        },
        "outputId": "2f01490b-93c7-4693-faae-c3cf9a7f5444"
      },
      "outputs": [
        {
          "output_type": "stream",
          "name": "stdout",
          "text": [
            "[[ 3  4]\n",
            " [-6 -4]\n",
            " [ 8 10]]\n"
          ]
        },
        {
          "output_type": "error",
          "ename": "ValueError",
          "evalue": "matmul: Input operand 1 has a mismatch in its core dimension 0, with gufunc signature (n?,k),(k,m?)->(n?,m?) (size 3 is different from 2)",
          "traceback": [
            "\u001b[0;31m---------------------------------------------------------------------------\u001b[0m",
            "\u001b[0;31mValueError\u001b[0m                                Traceback (most recent call last)",
            "\u001b[0;32m<ipython-input-11-5b58700c658a>\u001b[0m in \u001b[0;36m<cell line: 3>\u001b[0;34m()\u001b[0m\n\u001b[1;32m      1\u001b[0m \u001b[0;31m# Enter your code here\u001b[0m\u001b[0;34m\u001b[0m\u001b[0;34m\u001b[0m\u001b[0m\n\u001b[1;32m      2\u001b[0m \u001b[0mprint\u001b[0m\u001b[0;34m(\u001b[0m\u001b[0mnp\u001b[0m\u001b[0;34m.\u001b[0m\u001b[0mmatmul\u001b[0m\u001b[0;34m(\u001b[0m\u001b[0mB\u001b[0m\u001b[0;34m,\u001b[0m\u001b[0mC\u001b[0m\u001b[0;34m)\u001b[0m\u001b[0;34m)\u001b[0m\u001b[0;34m\u001b[0m\u001b[0;34m\u001b[0m\u001b[0m\n\u001b[0;32m----> 3\u001b[0;31m \u001b[0mprint\u001b[0m\u001b[0;34m(\u001b[0m\u001b[0mnp\u001b[0m\u001b[0;34m.\u001b[0m\u001b[0mmatmul\u001b[0m\u001b[0;34m(\u001b[0m\u001b[0mC\u001b[0m\u001b[0;34m,\u001b[0m\u001b[0mB\u001b[0m\u001b[0;34m)\u001b[0m\u001b[0;34m)\u001b[0m\u001b[0;34m\u001b[0m\u001b[0;34m\u001b[0m\u001b[0m\n\u001b[0m",
            "\u001b[0;31mValueError\u001b[0m: matmul: Input operand 1 has a mismatch in its core dimension 0, with gufunc signature (n?,k),(k,m?)->(n?,m?) (size 3 is different from 2)"
          ]
        }
      ],
      "source": [
        "# Enter your code here\n",
        "print(np.matmul(B,C))\n",
        "print(np.matmul(C,B))\n",
        "\n",
        "''' Only one works becuase B is a 3x3 vector while C is a 3x2 vector. BxC is able to deliver a vector of dimension 3x2 by taking the inner dimensions\n",
        "but CxB cannot function as the inner dimensions do not match [Limitation of matrix multiplication]'''\n"
      ]
    },
    {
      "cell_type": "markdown",
      "metadata": {
        "id": "KFn1SKn_qBpF"
      },
      "source": [
        "<p>The operator <code>@</code> was introduced in Python 3.5 and is equivalent with <code>matmul</code>. <br>\n",
        "Repeat the matrix and vector operations above, but use the <code>@</code>-operator instead (for example <code>A@B</code>):"
      ]
    },
    {
      "cell_type": "code",
      "execution_count": 13,
      "metadata": {
        "id": "3k_mrPSxqBpF",
        "colab": {
          "base_uri": "https://localhost:8080/"
        },
        "outputId": "e188e8c6-2b77-4d8e-83c7-fe3d39bbab6b"
      },
      "outputs": [
        {
          "output_type": "execute_result",
          "data": {
            "text/plain": [
              "array([[ 3,  4],\n",
              "       [-6, -4],\n",
              "       [ 8, 10]])"
            ]
          },
          "metadata": {},
          "execution_count": 13
        }
      ],
      "source": [
        "# Enter your code here\n",
        "A@B\n",
        "\n",
        "'''same as using np.matmul(A,B)'''"
      ]
    },
    {
      "cell_type": "markdown",
      "metadata": {
        "id": "TGDaAsBjqBpF"
      },
      "source": [
        "<p>When we work with regression analysis, the matrix multiplication $A^TA$ will play a crucial role. $A^T$ stands for 'A-transpose'. In numpy, the transpose of a matrix $A$ is computed with <code>np.transpose(A)</code> or alternatively <code>A.T</code>. <br>\n",
        "Transpose your matrix $C$ and figure out what the transpose of a matrix does. Use both methods,  <code>np.transpose</code> and <code>.T</code>:</p>"
      ]
    },
    {
      "cell_type": "code",
      "execution_count": 16,
      "metadata": {
        "id": "Myr7_juBqBpF",
        "colab": {
          "base_uri": "https://localhost:8080/"
        },
        "outputId": "39c7aaf3-d2e4-4450-c535-baa16798084e"
      },
      "outputs": [
        {
          "output_type": "execute_result",
          "data": {
            "text/plain": [
              "array([[1, 3, 5],\n",
              "       [2, 4, 6]])"
            ]
          },
          "metadata": {},
          "execution_count": 16
        }
      ],
      "source": [
        "# Enter your code here\n",
        "C.T"
      ]
    },
    {
      "cell_type": "markdown",
      "metadata": {
        "id": "UA8jWNJyqBpG"
      },
      "source": [
        "<p>What dimension will $C^TC$ have? Try to figure out first, and then do the calculation in Python:</p>"
      ]
    },
    {
      "cell_type": "code",
      "execution_count": 17,
      "metadata": {
        "id": "VDYCQi-lqBpG",
        "colab": {
          "base_uri": "https://localhost:8080/"
        },
        "outputId": "661b1639-d009-4321-c233-ee45176a2d9c"
      },
      "outputs": [
        {
          "output_type": "execute_result",
          "data": {
            "text/plain": [
              "array([[35, 44],\n",
              "       [44, 56]])"
            ]
          },
          "metadata": {},
          "execution_count": 17
        }
      ],
      "source": [
        "# Enter your code here\n",
        "C.T@C"
      ]
    },
    {
      "cell_type": "markdown",
      "metadata": {
        "id": "ziOZFDZUqBpG"
      },
      "source": [
        "<br>\n",
        "<p>Elementwise multiplication is performed in numpy through the function <code>np.multiply</code> or the symbol <code>*</code>. Use both to calculate elementwise multiplication of $A$ and $B$, $x$ and $y$ and $A$ and $C$. Try to figure out how it works (by looking at the matrices and comparing with the results).  \n",
        "    </p>"
      ]
    },
    {
      "cell_type": "code",
      "execution_count": 28,
      "metadata": {
        "id": "nr7TGQMoqBpG",
        "colab": {
          "base_uri": "https://localhost:8080/"
        },
        "outputId": "bbe6d33c-6b15-4d45-c8ff-61d34bbbf52b"
      },
      "outputs": [
        {
          "output_type": "stream",
          "name": "stdout",
          "text": [
            "A: \n",
            " [[ 2  4 -6]\n",
            " [ 1  5  3]\n",
            " [ 1  3  2]]\n",
            "B: \n",
            " [[ 1 -1  1]\n",
            " [ 4  0 -2]\n",
            " [ 0  1  1]]\n",
            "C: \n",
            " [[1 2]\n",
            " [3 4]\n",
            " [5 6]]\n"
          ]
        },
        {
          "output_type": "execute_result",
          "data": {
            "text/plain": [
              "10"
            ]
          },
          "metadata": {},
          "execution_count": 28
        }
      ],
      "source": [
        "# Enter your code here\n",
        "print('A: \\n',A)\n",
        "print('B: \\n',B)\n",
        "print('C: \\n',C)\n",
        "np.multiply(A,B)\n",
        "x*y\n",
        "np.multiply(A[1,1],C[0,1])"
      ]
    },
    {
      "cell_type": "markdown",
      "metadata": {
        "id": "Eg75rsyOqBpG"
      },
      "source": [
        "<br><hr>\n",
        "<h3>Solving equation systems</h3>\n",
        "<p>An equation system can be expressed as $Ax=b$, where $A$ is and $m \\times n$-matrix, $b$ is $m \\times 1$ and is the right-hand-side. We solve for the unknowns $x$, whis is $n \\times 1$.</p>\n",
        "<p>\n",
        "For example, the equation system\n",
        "    </p>\n",
        "$$\n",
        "\\begin{array}{ll}\n",
        "\\left\\{ \\begin{array}{l}\n",
        "2x_1 + 4x_2-6x_3 = 2 \\\\\n",
        "x_1 + 5x_2 + 3x_3 = 1 \\\\\n",
        "x_1 + 3x_2 + 2x_3 = 0\n",
        "\\end{array} \\right. \\mbox{ can be expressed as } &\n",
        "\\left( \\begin{array}{ccc}\n",
        "2 & 4 & -6 \\\\\n",
        "1 & 5 & 3 \\\\\n",
        "1 & 3 & 2\n",
        "\\end{array} \\right)\n",
        "\\left( \\begin{array}{c}\n",
        "x_1\\\\\n",
        "x_2\\\\\n",
        "x_3\n",
        "\\end{array}\\right)\n",
        "= \\left( \\begin{array}{c}\n",
        "2 \\\\\n",
        "1 \\\\\n",
        "0\n",
        "\\end{array} \\right) \\Rightarrow Ax=b\n",
        "\\end{array}  \n",
        "  $$\n",
        "<p>\n",
        " We can solve this system using solvers that are part of the <code>numpy.linalg</code> library, in this case <code>np.linalg.solve(A,b)</code>. Note that the matrix $A$ is already defined, and also the right-hand-side is defined in the array $y$. Solve the system using the solver, and store the solution in a vector $x$. Display the solution on the screen.\n",
        "    </p>"
      ]
    },
    {
      "cell_type": "code",
      "execution_count": 33,
      "metadata": {
        "id": "foMqti2oqBpH",
        "colab": {
          "base_uri": "https://localhost:8080/"
        },
        "outputId": "9a7d6cfa-c11c-4445-c690-de906981b2af"
      },
      "outputs": [
        {
          "output_type": "execute_result",
          "data": {
            "text/plain": [
              "array([[-1.33333333],\n",
              "       [ 0.66666667],\n",
              "       [-0.33333333]])"
            ]
          },
          "metadata": {},
          "execution_count": 33
        }
      ],
      "source": [
        "# Enter your code here\n",
        "A=np.array([[2,4,-6],[1,5,3],[1,3,2]])\n",
        "b=np.array([[2],[1],[0]])\n",
        "np.linalg.solve(A,b)\n",
        "\n",
        "x=A*b"
      ]
    },
    {
      "cell_type": "markdown",
      "metadata": {
        "id": "e1vJqJLZqBpH"
      },
      "source": [
        "<p>The algorithm implemented in <code>np.linalg.solve</code> is Gaussian elimination. Another option would be to use the matrix inverse and solve $x=A^{-1}b$. Inverse of matrix $A$ in <b>numpy</b> is computed with <code>np.linalg.inv(A)</code>. Try to solve the system using this method!<br>\n",
        "You should get the same result as with Gaussian elimination (otherwise you've done something wrong)."
      ]
    },
    {
      "cell_type": "code",
      "source": [
        "np.linalg.inv(A)@b\n",
        "\n",
        "'''x=A**(-1)*b"
      ],
      "metadata": {
        "colab": {
          "base_uri": "https://localhost:8080/"
        },
        "id": "PS1oEqdfxVQE",
        "outputId": "19fab68e-c187-4c9e-ee2c-99a32302bcc5"
      },
      "execution_count": 39,
      "outputs": [
        {
          "output_type": "execute_result",
          "data": {
            "text/plain": [
              "array([[-1.33333333],\n",
              "       [ 0.66666667],\n",
              "       [-0.33333333]])"
            ]
          },
          "metadata": {},
          "execution_count": 39
        }
      ]
    },
    {
      "cell_type": "code",
      "source": [],
      "metadata": {
        "id": "Q8QO4G4OrEZD"
      },
      "execution_count": null,
      "outputs": []
    },
    {
      "cell_type": "code",
      "execution_count": null,
      "metadata": {
        "id": "Z3dbVZ45qBpH"
      },
      "outputs": [],
      "source": [
        "# Enter your code here"
      ]
    },
    {
      "cell_type": "markdown",
      "metadata": {
        "id": "H-_Fzoz3qBpH"
      },
      "source": [
        "<p> Which of these two methods should we use? Does it matter which one we choose? Both of them give the same result.<br>\n",
        "The answer is that it does matter, one is much more efficient than the other. To test this, run the code below. The code solves linear equation systems of different dimension, using the two methods and measures the execution time (in seconds). The matrix dimensions vary from 500 (i.e. a $500 \\times 500$-matrix) to $N$ with increments of 500. The matrix and right-hand-side is created with random numbers (uniform distribution). Finally the execution time is plotted with dimension on the x-axis and time on the y-axis. You can of course change maximum dimension, $N$, but don't choose it too big, as it will take too much time to run the program.</p>\n",
        "<p>\n",
        "Run the code, and also go through and try to understand the code. Many of the commands that has been covered in this lab are included in the code (such as <code>np.arange</code>, <code>np.zeros</code> etc.), and it can serve as an example of how they can be used. Note, it will take a little bit of time before the plot shows up (maybe up to a minute).\n",
        "    </p>"
      ]
    },
    {
      "cell_type": "code",
      "execution_count": 40,
      "metadata": {
        "scrolled": true,
        "id": "ruiC0diMqBpH",
        "colab": {
          "base_uri": "https://localhost:8080/",
          "height": 472
        },
        "outputId": "e87b12fb-3656-401b-b8c9-c8423a70d1b5"
      },
      "outputs": [
        {
          "output_type": "display_data",
          "data": {
            "text/plain": [
              "<Figure size 640x480 with 1 Axes>"
            ],
            "image/png": "[encoded data removed]"
          },
          "metadata": {}
        }
      ],
      "source": [
        "# Compare execution time when solving a linear equation\n",
        "# system using Gaussian elimination (np.linalg.solve)\n",
        "# and inverse (np.linalg.inv)\n",
        "\n",
        "from time import process_time\n",
        "import matplotlib.pyplot as plt\n",
        "import numpy as np\n",
        "\n",
        "N = 6000   # Maximum matrix size (don't choose too big, not larger than 10000)\n",
        "# Create vector from 500 to N with increment 500\n",
        "A_size = np.arange(500,N+1,500)\n",
        "\n",
        "# Preallocate time-vectors\n",
        "timingGE = np.zeros(len(A_size))\n",
        "timingI = np.zeros(len(A_size))\n",
        "for i in range(len(A_size)):\n",
        "    # Create matrix and rhs (random numbers)\n",
        "    m = A_size[i]\n",
        "    A = np.random.rand(m,m)\n",
        "    b = np.random.rand(m,1)\n",
        "    # Solve with Gaussian elimination\n",
        "    t1_start = process_time()\n",
        "    x = np.linalg.solve(A,b)\n",
        "    timingGE[i] = process_time()-t1_start\n",
        "    # Solve with inverse\n",
        "    t2_start = process_time()\n",
        "    x = np.linalg.inv(A)@b\n",
        "    timingI[i] = process_time()-t2_start\n",
        "\n",
        "# Plot the execution times\n",
        "plt.plot(A_size, timingGE, color='r', label='Gaussian elimination')\n",
        "plt.plot(A_size, timingI, color='g', label='Inverse')\n",
        "plt.xlabel(\"Matrix size\")\n",
        "plt.ylabel(\"Execution time (s)\")\n",
        "plt.title(\"Execution time solving linear eq. system\")\n",
        "plt.legend()\n",
        "plt.grid()\n",
        "plt.show()\n",
        "\n",
        "\n",
        "'''I would personally choose the Inverse method since the plot line continues its trajectory and\n",
        "does not show a strong variance in data as opposed to the gaussian elimination which tends break\n",
        "the pattern at matrix size greater than 5000'''\n",
        "'''Alternatively, i would choose the gaussian elimination as it concludes faster than the inverse method\n",
        "indicating faster processing speeds when dealing with large datasets'''"
      ]
    },
    {
      "cell_type": "markdown",
      "metadata": {
        "id": "TK6aXV9nqBpI"
      },
      "source": [
        "<p>\n",
        "Based on the graph, what is the conclusion? Which of the two algorithms should we preferably choose?\n",
        "    </p>\n",
        "<p>\n",
        "    And that was the end of the lab 1... :-)\n",
        "    </p>\n",
        "    <hr>\n",
        "    "
      ]
    }
  ],
  "metadata": {
    "kernelspec": {
      "display_name": "Python 3",
      "language": "python",
      "name": "python3"
    },
    "language_info": {
      "codemirror_mode": {
        "name": "ipython",
        "version": 3
      },
      "file_extension": ".py",
      "mimetype": "text/x-python",
      "name": "python",
      "nbconvert_exporter": "python",
      "pygments_lexer": "ipython3",
      "version": "3.8.5"
    },
    "colab": {
      "provenance": [],
      "include_colab_link": true
    }
  },
  "nbformat": 4,
  "nbformat_minor": 0
}