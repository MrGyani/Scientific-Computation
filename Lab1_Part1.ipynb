{
  "cells": [
    {
      "cell_type": "markdown",
      "metadata": {
        "id": "view-in-github",
        "colab_type": "text"
      },
      "source": [
        "<a href=\"https://colab.research.google.com/github/MrGyani/Scientific-Computation/blob/main/Lab1_Part1.ipynb\" target=\"_parent\"><img src=\"https://colab.research.google.com/assets/colab-badge.svg\" alt=\"Open In Colab\"/></a>"
      ]
    },
    {
      "cell_type": "markdown",
      "metadata": {
        "id": "gFRHOWCxgsvz"
      },
      "source": [
        "<h1><center>Computer lab 1: Introduction to numpy and matplotlib</center></h1>\n",
        "<h2><center>Part 1: Vectors and matrices</center></h2>"
      ]
    },
    {
      "cell_type": "markdown",
      "metadata": {
        "id": "iGZq7VbCgsv1"
      },
      "source": [
        "<p><b>Numpy</b> is a fundamental package for scientific computations with Python. It offers a large number of numerical computing tools, for example mathematical functions, random number generators, arrays of different dimensions, linear algebra tools etc. In this part of the lab we will focus on arrays in 1D (also called vectors) and in 2D (also called matrices).</p>\n",
        "<h3>Instructions</h3>\n",
        "<p>As you can see there are a number of cells (grey boxes) below, and in some cells there will be code. You run the code in the currect cell by clicking the <b>Run</b>-button. In other cases you are asked to add code into particular a cell yourself. You add the code, and run the cell. If it does not work, update and run it again, until it works. In this way, the labs will be a mix of running existing code and doing a bit of coding yourself. Try to understand the results you get and what you are doing, and ask if you don't understand.</p>\n",
        "<hr>\n",
        "<h3>Import the numpy library</h3>\n",
        "<p>First, in order to use <b>numpy</b> you need to import it. By convention, \"np\" is used as a shortened name.</p>"
      ]
    },
    {
      "cell_type": "code",
      "execution_count": 1,
      "metadata": {
        "id": "UZg1-82dgsv1"
      },
      "outputs": [],
      "source": [
        "import numpy as np"
      ]
    },
    {
      "cell_type": "markdown",
      "metadata": {
        "id": "glezNZRjgsv2"
      },
      "source": [
        "<h3>Defining vectors and matrices</h3>\n",
        "<p>Run the cell below, to define two vectors (or 1D-arrays), $x$ and $y$. To do that, we use <b>numpy</b>'s <code>np.array</code> function. We also display the vectors on the screen, so you can see what they look like.</p>"
      ]
    },
    {
      "cell_type": "code",
      "execution_count": 2,
      "metadata": {
        "colab": {
          "base_uri": "https://localhost:8080/"
        },
        "id": "EidUi0C8gsv3",
        "outputId": "bb81ecb9-152b-4f34-e806-d93eaa288768"
      },
      "outputs": [
        {
          "output_type": "stream",
          "name": "stdout",
          "text": [
            "x =  [1 2 3]\n",
            "y =\n",
            " [[4]\n",
            " [5]\n",
            " [6]]\n"
          ]
        }
      ],
      "source": [
        "x = np.array([1, 2, 3])\n",
        "y = np.array([[4],[5],[6]])\n",
        "print('x = ',x)\n",
        "print('y =\\n',y)"
      ]
    },
    {
      "cell_type": "markdown",
      "metadata": {
        "id": "AsSYxzDWgsv3"
      },
      "source": [
        "<p>What <code>np.array</code> does is to convert a list (a datatype in Python) to an array. The list in the first case is <tt>[1, 2, 3]</tt>. We can also use nested lists (a list in a list) as in the case with vector $y$. The inner list (here <tt>[4]</tt>, <tt>[5]</tt> and <tt>[6]</tt>) will represent each row in the array. This will generate a column vector.\n",
        "<p>A couple of often used and practical functions are <code>shape</code> and <code>size</code>. Run the cell to see what they result in.</p>"
      ]
    },
    {
      "cell_type": "code",
      "execution_count": 3,
      "metadata": {
        "id": "-aoPYzfKgsv3",
        "colab": {
          "base_uri": "https://localhost:8080/"
        },
        "outputId": "bcce0a63-e9d2-42d2-d2c7-4bec83865255"
      },
      "outputs": [
        {
          "output_type": "stream",
          "name": "stdout",
          "text": [
            "(3, 1)\n",
            "3\n"
          ]
        }
      ],
      "source": [
        "print(np.shape(y))\n",
        "print(np.size(y))"
      ]
    },
    {
      "cell_type": "markdown",
      "metadata": {
        "id": "qxA-QDZqgsv3"
      },
      "source": [
        "The first output here is a tuple, and gives us information about the number of rows (=3) and the number of columns (=1). The second output (<code>size</code>) tells us the number of elements in the array.<br><br>\n",
        "Alternatively, you can write the commands like <code>y.shape</code>. Try it in the cell below!"
      ]
    },
    {
      "cell_type": "code",
      "execution_count": 8,
      "metadata": {
        "id": "sqM4sp80gsv3",
        "colab": {
          "base_uri": "https://localhost:8080/"
        },
        "outputId": "e9ce0855-45b1-47cb-eff9-ec90e572f1ef"
      },
      "outputs": [
        {
          "output_type": "execute_result",
          "data": {
            "text/plain": [
              "(3, 1)"
            ]
          },
          "metadata": {},
          "execution_count": 8
        }
      ],
      "source": [
        "# Enter your code here\n",
        "y.shape\n"
      ]
    },
    {
      "cell_type": "markdown",
      "metadata": {
        "id": "Nf7IDEiugsv4"
      },
      "source": [
        "<p>Now, if $y$ is $3 \\times 1$, then $x$ must be $1 \\times 3$? Check this out by displaying the shape of $x$:</p>"
      ]
    },
    {
      "cell_type": "code",
      "execution_count": 7,
      "metadata": {
        "id": "oDM4mVAogsv4",
        "colab": {
          "base_uri": "https://localhost:8080/"
        },
        "outputId": "433a14df-d64c-4538-b244-92a2badf3c49"
      },
      "outputs": [
        {
          "output_type": "execute_result",
          "data": {
            "text/plain": [
              "(3,)"
            ]
          },
          "metadata": {},
          "execution_count": 7
        }
      ],
      "source": [
        "# Enter your code here\n",
        "x.shape"
      ]
    },
    {
      "cell_type": "markdown",
      "metadata": {
        "id": "Jh_LZ_gugsv5"
      },
      "source": [
        "<p>Apparently $x$ isn't $1 \\times 3$, as the result is <tt>(3,)</tt>. It is actually considered neither a column vector or a row vector. <br>\n",
        "    We can investigate the dimensions of $x$ and $y$, using <code>ndim</code>: </p>"
      ]
    },
    {
      "cell_type": "code",
      "execution_count": 10,
      "metadata": {
        "id": "d_V6NgEqgsv5",
        "colab": {
          "base_uri": "https://localhost:8080/"
        },
        "outputId": "9cc31553-86ac-4b8c-f3c1-be88da74f9c5"
      },
      "outputs": [
        {
          "output_type": "stream",
          "name": "stdout",
          "text": [
            "1\n",
            "2\n"
          ]
        }
      ],
      "source": [
        "print(np.ndim(x))\n",
        "print(np.ndim(y))"
      ]
    },
    {
      "cell_type": "markdown",
      "metadata": {
        "id": "RSKqkJmjgsv5"
      },
      "source": [
        "As you can see $x$ is considered to be of dimension 1, whereas $y$ is of dimension 2 (three rows and one column), which technically is a matrix. If you need a 2-dimensional <i>row vector</i>, you can use double brackets, like <code>z = np.array([[1, 2, 3]])</code>:"
      ]
    },
    {
      "cell_type": "code",
      "execution_count": 11,
      "metadata": {
        "id": "hNak5X2vgsv5",
        "colab": {
          "base_uri": "https://localhost:8080/"
        },
        "outputId": "b91070db-07ef-472e-b903-9396dbf7f06a"
      },
      "outputs": [
        {
          "output_type": "stream",
          "name": "stdout",
          "text": [
            "z =  [[1 2 3]]\n",
            "Shape:  (1, 3)\n",
            "Dimension:  2\n"
          ]
        }
      ],
      "source": [
        "z = np.array([[1, 2, 3]])\n",
        "print('z = ', z)\n",
        "print('Shape: ', z.shape)\n",
        "print('Dimension: ',z.ndim)"
      ]
    },
    {
      "cell_type": "code",
      "source": [],
      "metadata": {
        "id": "55a9QLexpE-c"
      },
      "execution_count": null,
      "outputs": []
    },
    {
      "cell_type": "markdown",
      "metadata": {
        "id": "G0_cXV0tgsv5"
      },
      "source": [
        "<p>This would create a 2D-array with 1 row and 3 columns. </p>\n",
        "<p>Generally, the norm is 1D for vectors, and you don't really keep row and column vector differentiated in <b>NumPy</b>. However, in a linear algebra context there might be cases where you want to distinguish between row and column vectors, and it's therefore good to be aware of this. <b>Numpy</b> will often automatically reshape 1D vectors to a 2D shape in operations where 2D arrays are involved. How <b>numpy</b> treat arrays with different shapes during arithmetic operations is called 'broadcasting', and if you are interested you can read more about it here: <a href=\"https://numpy.org/doc/stable/user/basics.broadcasting.html\" target=\"_blank\">https://numpy.org/doc/stable/user/basics.broadcasting.html</a></p>\n",
        "<hr>\n",
        "<p>&nbsp;</p>\n",
        "<h4>Matrices in numpy</h4>\n",
        "<p>Matrices are created in the same way as you created $y$, i.e. inner brackets generates rows. Try to create the two matrices\n",
        "$$ \\begin{array}{ll}\n",
        "A = \\left( \\begin{array}{ccc}\n",
        "2 & 4 & -6 \\\\\n",
        "1 & 5 & 3 \\\\\n",
        "1 & 3 & 2\n",
        "\\end{array} \\right) \\; \\; \\mbox{ and} &\n",
        "B = \\left( \\begin{array}{cc}\n",
        "1 & 2 \\\\\n",
        "3 & 4 \\\\\n",
        "5 & 6\n",
        "\\end{array}\\right)\n",
        "\\end{array}\n",
        "$$\n",
        "Also, print the matrices on the screen to check that they look correct.</p>"
      ]
    },
    {
      "cell_type": "code",
      "execution_count": 15,
      "metadata": {
        "id": "u5hfe91wgsv5",
        "colab": {
          "base_uri": "https://localhost:8080/"
        },
        "outputId": "595dc04a-1b27-41d6-eaa8-f3beef1011cf"
      },
      "outputs": [
        {
          "output_type": "stream",
          "name": "stdout",
          "text": [
            "9\n",
            "(3, 3)\n",
            "6\n",
            "(3, 2)\n"
          ]
        }
      ],
      "source": [
        "# Enter your code here\n",
        "A=np.array([[2,4,-6],[1,5,3],[1,3,2]])\n",
        "B=np.array([[1,2],[3,4],[5,6]])\n",
        "print(np.size(A))\n",
        "print(np.shape(A))\n",
        "print(np.size(B))\n",
        "print(np.shape(B))"
      ]
    },
    {
      "cell_type": "markdown",
      "metadata": {
        "id": "a-xVm9aHgsv5"
      },
      "source": [
        "<p>To be really sure they are correct, also check the shape, dimension and size of the matrices:</p>"
      ]
    },
    {
      "cell_type": "code",
      "execution_count": 17,
      "metadata": {
        "id": "BIXJtBlmgsv5",
        "colab": {
          "base_uri": "https://localhost:8080/"
        },
        "outputId": "8faed4ac-1807-40f2-ba43-7008f5619df9"
      },
      "outputs": [
        {
          "output_type": "stream",
          "name": "stdout",
          "text": [
            "2\n",
            "2\n"
          ]
        }
      ],
      "source": [
        "# Enter your code here\n",
        "print(A.ndim)\n",
        "print(B.ndim)"
      ]
    },
    {
      "cell_type": "markdown",
      "metadata": {
        "id": "4xT-QWyvgsv6"
      },
      "source": [
        "<h3>Accessing elements in vectors and matrices</h3>\n",
        "<p>Each element in an array has an index to indicate the location: <code>x[i]</code> would get the element in location <tt>i</tt>. As the first index in numpy is always 0, it means that <code>x[i]</code> is equal to $x_{i+1}$ in 'mathematical' notation (in 'mathematical' notation indexing is usually $x_1, x_2, \\ldots$, i.e. starting at index 1).</p>\n",
        "<p>Print the first and the last element in $x$ on the screen. To se if it is correct, compare with the vector $x$.</p>"
      ]
    },
    {
      "cell_type": "code",
      "execution_count": 23,
      "metadata": {
        "id": "U6xlC0Xygsv6",
        "colab": {
          "base_uri": "https://localhost:8080/"
        },
        "outputId": "c10b4cbf-a4da-480e-d4a6-ded990171ced"
      },
      "outputs": [
        {
          "output_type": "stream",
          "name": "stdout",
          "text": [
            "[[ 2  4 -6]\n",
            " [ 1  5  3]\n",
            " [ 1  3  2]]\n",
            "[ 2  4 -6]\n",
            "[1 3 2]\n"
          ]
        }
      ],
      "source": [
        "# Enter your code here\n",
        "print(A)\n",
        "print(A[0])\n"
      ]
    },
    {
      "cell_type": "markdown",
      "metadata": {
        "id": "-37BJ3Fxgsv6"
      },
      "source": [
        "<p>\n",
        "Remember, the first element $x_1$ is located in index 0 (<code>x[0]</code>). <br>\n",
        "<br>The last element in a vector can also be accessed using index <code>-1</code>. Try it!\n",
        "    </p>"
      ]
    },
    {
      "cell_type": "code",
      "execution_count": 24,
      "metadata": {
        "id": "WbuRs8XEgsv6",
        "colab": {
          "base_uri": "https://localhost:8080/"
        },
        "outputId": "e222f25e-ab6f-4509-b179-4bdadc926e87"
      },
      "outputs": [
        {
          "output_type": "stream",
          "name": "stdout",
          "text": [
            "[1 3 2]\n"
          ]
        }
      ],
      "source": [
        "# Enter your code\n",
        "print(A[-1])"
      ]
    },
    {
      "cell_type": "markdown",
      "metadata": {
        "id": "fWy7DFVAgsv6"
      },
      "source": [
        "<p>This is practical to use when you work with big vectors/matrices and it hard to know the number of elements. We can of course find the number of elements, but it is easier to just use index <code>-1</code>.</p>\n",
        "<p>What about matrices? A 2D-array have two indices, row-index and column-index, and <code>A[i,j]</code> would access element $(i,j)$.<br>\n",
        "Try to display\n",
        "    <ul>\n",
        "    <li>the element in $A_{11}$, i.e. the upper left element in $A$  (remember index start at 0 in Python)</li>\n",
        "    <li>the element in $A_{23}$</li>\n",
        "    <li>the element in the last row and last column in $B$ (remember <code>-1</code> gives the last element.)</li>\n",
        "        </ul>\n",
        "   Check that you actually displayed the correct element on the screen by comparing with $A$!\n",
        "        </p>"
      ]
    },
    {
      "cell_type": "code",
      "execution_count": 28,
      "metadata": {
        "id": "dABoZdrMgsv6",
        "colab": {
          "base_uri": "https://localhost:8080/"
        },
        "outputId": "e2a52593-bd65-40c6-f33f-425e24d4e6c3"
      },
      "outputs": [
        {
          "output_type": "stream",
          "name": "stdout",
          "text": [
            "[[ 2  4 -6]\n",
            " [ 1  5  3]\n",
            " [ 1  3  2]]\n",
            "2\n",
            "3\n",
            "2\n"
          ]
        }
      ],
      "source": [
        "# Enter your code here\n",
        "print(A)\n",
        "print(A[0,0])\n",
        "print(A[1,2])\n",
        "print(A[-1,-1])"
      ]
    },
    {
      "cell_type": "markdown",
      "metadata": {
        "id": "4tDUHlWFgsv6"
      },
      "source": [
        "<p>\n",
        "    What happens if you by mistake try to access an element outside the array boundaries? Try to display element $B_{41}$ (again, remember index begin at 0 in Python)</p>"
      ]
    },
    {
      "cell_type": "code",
      "execution_count": 29,
      "metadata": {
        "id": "jtjeyweLgsv6",
        "colab": {
          "base_uri": "https://localhost:8080/",
          "height": 158
        },
        "outputId": "747a829c-4992-411b-ae8f-cf2ac7515eec"
      },
      "outputs": [
        {
          "output_type": "error",
          "ename": "IndexError",
          "evalue": "index 4 is out of bounds for axis 0 with size 3",
          "traceback": [
            "\u001b[0;31m---------------------------------------------------------------------------\u001b[0m",
            "\u001b[0;31mIndexError\u001b[0m                                Traceback (most recent call last)",
            "\u001b[0;32m<ipython-input-29-d00d7b4eed23>\u001b[0m in \u001b[0;36m<cell line: 2>\u001b[0;34m()\u001b[0m\n\u001b[1;32m      1\u001b[0m \u001b[0;31m# Enter your code here\u001b[0m\u001b[0;34m\u001b[0m\u001b[0;34m\u001b[0m\u001b[0m\n\u001b[0;32m----> 2\u001b[0;31m \u001b[0mprint\u001b[0m\u001b[0;34m(\u001b[0m\u001b[0mB\u001b[0m\u001b[0;34m[\u001b[0m\u001b[0;36m4\u001b[0m\u001b[0;34m,\u001b[0m\u001b[0;36m1\u001b[0m\u001b[0;34m]\u001b[0m\u001b[0;34m)\u001b[0m\u001b[0;34m\u001b[0m\u001b[0;34m\u001b[0m\u001b[0m\n\u001b[0m",
            "\u001b[0;31mIndexError\u001b[0m: index 4 is out of bounds for axis 0 with size 3"
          ]
        }
      ],
      "source": [
        "# Enter your code here\n",
        "print(B[4,1])"
      ]
    },
    {
      "cell_type": "markdown",
      "metadata": {
        "id": "X6tgW9u7gsv6"
      },
      "source": [
        "<p>\n",
        "As you can see, Python tells you that your index (index number 3) is out of bounds for 'axis 0'. Axes are defined for arrays with dimension 2 (or higher), and 'axis 0' corresponds the elements running vertically, i.e. the columns, and 'axis 1' corresponds elements running horizontally, i.e. the rows.<br>\n",
        "Trying to access element outside the array bounds is quite a common mistake, and it is therefore good to quickly be able to interpret this error message.\n",
        "    </p>"
      ]
    },
    {
      "cell_type": "markdown",
      "metadata": {
        "id": "MDHw4zJQgsv7"
      },
      "source": [
        "<p>You can of course also change a specific element in vectors/matrices, by just assigning a value to a specific index. For example <code>A[1,2] = 0</code> would change element $(2,3)$ in $A$ to a zero.<br> Do this change, and also print $A$ on the screen to be sure you changed the correct index!"
      ]
    },
    {
      "cell_type": "code",
      "execution_count": 30,
      "metadata": {
        "id": "5zby7Fs2gsv7",
        "colab": {
          "base_uri": "https://localhost:8080/"
        },
        "outputId": "9e541d38-4e2c-425d-d792-ca808d66c54c"
      },
      "outputs": [
        {
          "output_type": "stream",
          "name": "stdout",
          "text": [
            "[[ 2  4 -6]\n",
            " [ 1  5  3]\n",
            " [ 1  3  2]]\n",
            "[[ 2  4 -6]\n",
            " [ 1  5  0]\n",
            " [ 1  3  2]]\n"
          ]
        }
      ],
      "source": [
        "# Enter your code here\n",
        "print(A)\n",
        "A[1,2]=0\n",
        "print(A)"
      ]
    },
    {
      "cell_type": "markdown",
      "metadata": {
        "id": "EjttXwu_gsv7"
      },
      "source": [
        "<h4>The colon operator</h4>\n",
        "<p>It is often the case that we would like to index a range of elements at the same time. That can be done using the colon (<code>:</code>) operator. <br>\n",
        "Run the code below, compare the results with $x$ and $A$, and try to understand how the colon operator works."
      ]
    },
    {
      "cell_type": "code",
      "execution_count": 31,
      "metadata": {
        "id": "E8QS92gXgsv7",
        "colab": {
          "base_uri": "https://localhost:8080/"
        },
        "outputId": "b875e410-185f-460c-8bd5-b3b1ff4fa7f5"
      },
      "outputs": [
        {
          "output_type": "stream",
          "name": "stdout",
          "text": [
            "First we display x and A\n",
            "x =  [1 2 3]\n",
            "A = \n",
            " [[ 2  4 -6]\n",
            " [ 1  5  0]\n",
            " [ 1  3  2]]\n",
            "--\n",
            "Compare the results with x and A above. Try to understand how ':' works.\n",
            "x[0:2] =>  [1 2]\n",
            "x[:2]  =>  [1 2]\n",
            "x[1:]  =>  [2 3]\n",
            "A[1:,0:2] => \n",
            " [[1 5]\n",
            " [1 3]]\n"
          ]
        }
      ],
      "source": [
        "print('First we display x and A')\n",
        "print('x = ', x)\n",
        "print('A = \\n', A)\n",
        "print('--')\n",
        "print('Compare the results with x and A above. Try to understand how \\':\\' works.')\n",
        "print('x[0:2] => ', x[0:2])\n",
        "print('x[:2]  => ', x[:2])\n",
        "print('x[1:]  => ', x[1:])\n",
        "print('A[1:,0:2] => \\n', A[1:,0:2])"
      ]
    },
    {
      "cell_type": "markdown",
      "metadata": {
        "id": "tNLkQb7sgsv7"
      },
      "source": [
        "<p> Index <code>a:b</code> result in all elements starting from <code>a</code> and number of elements <code>b</code>. If any of <code>a</code> or <code>b</code> are unspecified we mean from the first element and/or to the dimension size, respectively. You can also see in the last example that the colon operator can be used to access submatrices. In this case the rows from index 1 to the end, and the columns from index 0 to column number 2.</p>\n",
        "<p>\n",
        "Try on your own to\n",
        "\n",
        "*   Display (on the screen) the last row of $A$\n",
        "*   Display the 2nd column of $A$\n",
        "*   Change the first row of $A$ to [1 2 3] (use only one command)\n",
        "*   Create a matrix $C$ equal to the $2 \\times 2$ upper right corner of $A$\n",
        "\n",
        "Check that you actually displayed the correct element on the screen!\n",
        "        </p>"
      ]
    },
    {
      "cell_type": "code",
      "execution_count": 46,
      "metadata": {
        "id": "P73y08_Qgsv7",
        "colab": {
          "base_uri": "https://localhost:8080/"
        },
        "outputId": "a39f047a-d09a-491c-e449-b245c53fbdc6"
      },
      "outputs": [
        {
          "output_type": "stream",
          "name": "stdout",
          "text": [
            "[[ 2  4 -6]\n",
            " [ 1  5  0]\n",
            " [ 1  3  2]]\n",
            "last row of A:  [1 3 2]\n",
            "2nd Column of A: \n",
            " [[-6]\n",
            " [ 0]\n",
            " [ 2]]\n"
          ]
        }
      ],
      "source": [
        "# Enter your code here\n",
        "print(A)\n",
        "print('last row of A: ', A[2,])\n",
        "n=np.array([A[0:,2]])\n",
        "n=np.transpose(n)\n",
        "print('2nd Column of A: \\n', n)"
      ]
    },
    {
      "cell_type": "markdown",
      "metadata": {
        "id": "Ks_MO4VWgsv7"
      },
      "source": [
        "<h4>Arrays in arithmetic functions</h4>\n",
        "<p>Numpy has many arithmetic functions, such as <code>sin</code>, <code>cos</code>, <code>sqrt</code> etc., that can take arrays as input arguments. The function is evaluated elementwise, i.e. for every element in the array.</p>\n",
        "<p>Try <code>np.sqrt(B)</code>, <code>np.cos(B)</code>. Also try <code>B**2</code> and <code>B**3</code> (<code>**</code> means 'elementwise power to'). Compare the results with $B$.</p>"
      ]
    },
    {
      "cell_type": "code",
      "execution_count": 48,
      "metadata": {
        "id": "ZeQbfEEUgsv7",
        "colab": {
          "base_uri": "https://localhost:8080/"
        },
        "outputId": "88a8e6ed-9084-4acf-e303-6f76db9d4595"
      },
      "outputs": [
        {
          "output_type": "stream",
          "name": "stdout",
          "text": [
            "Square root of B:  [[1.         1.41421356]\n",
            " [1.73205081 2.        ]\n",
            " [2.23606798 2.44948974]]\n",
            "cosine of B:  [[ 0.54030231 -0.41614684]\n",
            " [-0.9899925  -0.65364362]\n",
            " [ 0.28366219  0.96017029]]\n",
            "Sine of B:  [[ 0.84147098  0.90929743]\n",
            " [ 0.14112001 -0.7568025 ]\n",
            " [-0.95892427 -0.2794155 ]]\n",
            "Tangent of B:  [[ 1.55740772 -2.18503986]\n",
            " [-0.14254654  1.15782128]\n",
            " [-3.38051501 -0.29100619]]\n",
            "Square of B:  [[ 1  4]\n",
            " [ 9 16]\n",
            " [25 36]]\n",
            "Cube of B:  [[  1   8]\n",
            " [ 27  64]\n",
            " [125 216]]\n"
          ]
        }
      ],
      "source": [
        "# Enter your code here\n",
        "print('Square root of B: ', np.sqrt(B))\n",
        "print('cosine of B: ', np.cos(B))\n",
        "print('Sine of B: ', np.sin(B))\n",
        "print('Tangent of B: ', np.tan(B))\n",
        "print('Square of B: ', B**2)\n",
        "print('Cube of B: ', B**3)"
      ]
    },
    {
      "cell_type": "markdown",
      "metadata": {
        "id": "1frnNJzxgsv7"
      },
      "source": [
        "<p>To use vectors in arithmetic functions is often a way to suppress for-loops. Working on whole arrays in <b>numpy</b>, rather than element by element in a loop is both esier and also faster.\n",
        "<p>We will look at other operations such as matrix multiplication, addition/subtraction etc. in part 3 of this lab. Now, continue with part 2...</p>\n",
        "<p><hr></p>"
      ]
    }
  ],
  "metadata": {
    "kernelspec": {
      "display_name": "Python 3",
      "language": "python",
      "name": "python3"
    },
    "language_info": {
      "codemirror_mode": {
        "name": "ipython",
        "version": 3
      },
      "file_extension": ".py",
      "mimetype": "text/x-python",
      "name": "python",
      "nbconvert_exporter": "python",
      "pygments_lexer": "ipython3",
      "version": "3.8.5"
    },
    "colab": {
      "provenance": [],
      "include_colab_link": true
    }
  },
  "nbformat": 4,
  "nbformat_minor": 0
}